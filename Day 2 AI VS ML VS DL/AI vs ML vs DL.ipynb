{
 "cells": [
  {
   "attachments": {},
   "cell_type": "markdown",
   "metadata": {},
   "source": [
    "Artificial Intelligence:\n",
    "\n",
    "Artificial intelligence leverages computers and machines to mimic \n",
    "the problem-solving and decision-making capabilities of the human mind."
   ]
  },
  {
   "attachments": {},
   "cell_type": "markdown",
   "metadata": {},
   "source": [
    "Machine Learning:\n",
    "\n",
    "Machine learning is a branch of artificial intelligence (AI) and computer science \n",
    "which focuses on the use of data and algorithms to imitate the way that humans learn, \n",
    "gradually improving its accuracy."
   ]
  },
  {
   "attachments": {},
   "cell_type": "markdown",
   "metadata": {},
   "source": [
    " Deep Learning:\n",
    "\n",
    "Deep learning is a method in artificial intelligence (AI) that teaches computers\n",
    "to process data in a way that is inspired by the human brain. \n",
    "Deep learning models can recognize complex patterns in pictures, text, sounds, \n",
    "and other data to produce accurate insights and predictions.\n",
    "\n",
    "\n",
    "Deep learning performs good when large data is provided."
   ]
  }
 ],
 "metadata": {
  "language_info": {
   "name": "python"
  },
  "orig_nbformat": 4
 },
 "nbformat": 4,
 "nbformat_minor": 2
}
