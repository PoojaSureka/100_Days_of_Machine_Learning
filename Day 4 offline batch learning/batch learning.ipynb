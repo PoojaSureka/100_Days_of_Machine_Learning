{
 "cells": [
  {
   "cell_type": "markdown",
   "metadata": {},
   "source": [
    "### What is Batch or Offline Learning?"
   ]
  },
  {
   "cell_type": "markdown",
   "metadata": {},
   "source": [
    "What is Batch or Offline Learning?\n",
    "Batch learning represents the training of machine learning models in a batch manner. \n",
    "In other words, batch learning represents the training of the models at regular intervals such as weekly, \n",
    "bi-weekly, monthly, quarterly, etc. In batch learning, the system is not capable of learning incrementally.\n",
    "The models must be trained using all the available data every single time. \n",
    "The data gets accumulated over a period of time. \n",
    "The models then get trained with the accumulated data from time to time at periodic intervals. \n",
    "This model training takes a lot of time and computing resources. Hence, it is typically done offline.\n",
    "After the models are trained, they are launched into production and they run without learning anymore.\n",
    "Batch learning is also called offline learning. \n",
    "The models trained using batch or offline learning are moved into production only at regular\n",
    "intervals based on the performance of models trained with new data. "
   ]
  },
  {
   "cell_type": "markdown",
   "metadata": {},
   "source": [
    "### Diasdventage of batch ML"
   ]
  },
  {
   "cell_type": "code",
   "execution_count": 2,
   "metadata": {},
   "outputs": [],
   "source": [
    "### Lots of data\n",
    "### hardware limitation \n",
    "### availability"
   ]
  },
  {
   "cell_type": "code",
   "execution_count": null,
   "metadata": {},
   "outputs": [],
   "source": []
  }
 ],
 "metadata": {
  "kernelspec": {
   "display_name": "Python 3",
   "language": "python",
   "name": "python3"
  },
  "language_info": {
   "codemirror_mode": {
    "name": "ipython",
    "version": 3
   },
   "file_extension": ".py",
   "mimetype": "text/x-python",
   "name": "python",
   "nbconvert_exporter": "python",
   "pygments_lexer": "ipython3",
   "version": "3.11.2"
  },
  "orig_nbformat": 4
 },
 "nbformat": 4,
 "nbformat_minor": 2
}
